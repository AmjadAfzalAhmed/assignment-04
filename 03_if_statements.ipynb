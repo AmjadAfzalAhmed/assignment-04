{
  "nbformat": 4,
  "nbformat_minor": 0,
  "metadata": {
    "colab": {
      "provenance": [],
      "authorship_tag": "ABX9TyOxWcclXmCWQ2iq4oAIjdBD",
      "include_colab_link": true
    },
    "kernelspec": {
      "name": "python3",
      "display_name": "Python 3"
    },
    "language_info": {
      "name": "python"
    }
  },
  "cells": [
    {
      "cell_type": "markdown",
      "metadata": {
        "id": "view-in-github",
        "colab_type": "text"
      },
      "source": [
        "<a href=\"https://colab.research.google.com/github/AmjadAfzalAhmed/assignment-04/blob/main/03_if_statements.ipynb\" target=\"_parent\"><img src=\"https://colab.research.google.com/assets/colab-badge.svg\" alt=\"Open In Colab\"/></a>"
      ]
    },
    {
      "cell_type": "markdown",
      "source": [
        "**01_print_events**"
      ],
      "metadata": {
        "id": "tUNlzWyiOiWI"
      }
    },
    {
      "cell_type": "code",
      "execution_count": null,
      "metadata": {
        "colab": {
          "base_uri": "https://localhost:8080/"
        },
        "id": "JFpzZu49OMbv",
        "outputId": "52e68f4c-f0d3-4a88-f6e1-c909d9b13961"
      },
      "outputs": [
        {
          "output_type": "stream",
          "name": "stdout",
          "text": [
            "[0, 2, 4, 6, 8, 10, 12, 14, 16, 18, 20, 22, 24, 26, 28, 30, 32, 34, 36, 38]\n"
          ]
        }
      ],
      "source": [
        "def even_nums():\n",
        "  nums_list = []\n",
        "\n",
        "  for i in range (20):\n",
        "    nums_list.append(i * 2)\n",
        "\n",
        "  print(nums_list)\n",
        "even_nums()"
      ]
    },
    {
      "cell_type": "markdown",
      "source": [
        "**02_international_voting_age**"
      ],
      "metadata": {
        "id": "e4RP48n_egT2"
      }
    },
    {
      "cell_type": "code",
      "source": [
        "PETURKSBOUIPO_AGE : int = 16\n",
        "STANLAU_AGE : int = 25\n",
        "MAYENGUA_AGE : int = 48\n",
        "\n",
        "def main():\n",
        "\n",
        "  age = int(input(\"Enter your age: \"))\n",
        "\n",
        "  if age >= PETURKSBOUIPO_AGE and age < STANLAU_AGE:\n",
        "    print(\"\\nYou are eligible to vote at PETURKSBOUIPO.\")\n",
        "  elif age < PETURKSBOUIPO_AGE:\n",
        "    print(\"\\nSorry!, you cannot vote.\")\n",
        "\n",
        "  elif age >= STANLAU_AGE and age < MAYENGUA_AGE:\n",
        "    print(\"You can register your vote at STANLAU\")\n",
        "\n",
        "  elif age >= MAYENGUA_AGE:\n",
        "    print(\"\\nYou can are eligible to vote at MAYENGUA\")\n",
        "\n",
        "if __name__ == '__main__':\n",
        "  main()\n"
      ],
      "metadata": {
        "id": "fVLWkRsQeiA2",
        "colab": {
          "base_uri": "https://localhost:8080/"
        },
        "outputId": "e2c81091-d447-48a8-9826-8b5eee193907"
      },
      "execution_count": 8,
      "outputs": [
        {
          "output_type": "stream",
          "name": "stdout",
          "text": [
            "Enter your age: 15\n",
            "\n",
            "Sorry!, you cannot vote.\n"
          ]
        }
      ]
    }
  ]
}