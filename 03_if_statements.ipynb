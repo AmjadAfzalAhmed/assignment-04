{
  "nbformat": 4,
  "nbformat_minor": 0,
  "metadata": {
    "colab": {
      "provenance": [],
      "authorship_tag": "ABX9TyNKqxV6SIKWhzg4bk1WRg18",
      "include_colab_link": true
    },
    "kernelspec": {
      "name": "python3",
      "display_name": "Python 3"
    },
    "language_info": {
      "name": "python"
    }
  },
  "cells": [
    {
      "cell_type": "markdown",
      "metadata": {
        "id": "view-in-github",
        "colab_type": "text"
      },
      "source": [
        "<a href=\"https://colab.research.google.com/github/AmjadAfzalAhmed/assignment-04/blob/main/03_if_statements.ipynb\" target=\"_parent\"><img src=\"https://colab.research.google.com/assets/colab-badge.svg\" alt=\"Open In Colab\"/></a>"
      ]
    },
    {
      "cell_type": "markdown",
      "source": [
        "**01_print_events**"
      ],
      "metadata": {
        "id": "tUNlzWyiOiWI"
      }
    },
    {
      "cell_type": "code",
      "execution_count": null,
      "metadata": {
        "colab": {
          "base_uri": "https://localhost:8080/"
        },
        "id": "JFpzZu49OMbv",
        "outputId": "52e68f4c-f0d3-4a88-f6e1-c909d9b13961"
      },
      "outputs": [
        {
          "output_type": "stream",
          "name": "stdout",
          "text": [
            "[0, 2, 4, 6, 8, 10, 12, 14, 16, 18, 20, 22, 24, 26, 28, 30, 32, 34, 36, 38]\n"
          ]
        }
      ],
      "source": [
        "def even_nums():\n",
        "  nums_list = []\n",
        "\n",
        "  for i in range (20):\n",
        "    nums_list.append(i * 2)\n",
        "\n",
        "  print(nums_list)\n",
        "even_nums()"
      ]
    },
    {
      "cell_type": "markdown",
      "source": [
        "**02_international_voting_age**"
      ],
      "metadata": {
        "id": "e4RP48n_egT2"
      }
    },
    {
      "cell_type": "code",
      "source": [
        "PETURKSBOUIPO_AGE : int = 16\n",
        "STANLAU_AGE : int = 25\n",
        "MAYENGUA_AGE : int = 48\n",
        "\n",
        "def main():\n",
        "\n",
        "  age = int(input(\"Enter your age: \"))\n",
        "\n",
        "  if age >= PETURKSBOUIPO_AGE and age < STANLAU_AGE:\n",
        "    print(\"\\nYou are eligible to vote at PETURKSBOUIPO.\")\n",
        "  elif age < PETURKSBOUIPO_AGE:\n",
        "    print(\"\\nSorry!, you cannot vote.\")\n",
        "\n",
        "  elif age >= STANLAU_AGE and age < MAYENGUA_AGE:\n",
        "    print(\"You can register your vote at STANLAU\")\n",
        "\n",
        "  elif age >= MAYENGUA_AGE:\n",
        "    print(\"\\nYou can are eligible to vote at MAYENGUA\")\n",
        "\n",
        "if __name__ == '__main__':\n",
        "  main()\n"
      ],
      "metadata": {
        "id": "fVLWkRsQeiA2",
        "colab": {
          "base_uri": "https://localhost:8080/"
        },
        "outputId": "e2c81091-d447-48a8-9826-8b5eee193907"
      },
      "execution_count": null,
      "outputs": [
        {
          "output_type": "stream",
          "name": "stdout",
          "text": [
            "Enter your age: 15\n",
            "\n",
            "Sorry!, you cannot vote.\n"
          ]
        }
      ]
    },
    {
      "cell_type": "markdown",
      "source": [
        "**03_leap_year**"
      ],
      "metadata": {
        "id": "qD-XLBIH1cQU"
      }
    },
    {
      "cell_type": "code",
      "source": [
        "# Function to check if a given year is a leap year\n",
        "# Returns True if it's a leap year, False otherwise\n",
        "def is_leap_year(year):\n",
        "    # A leap year must satisfy one of these conditions:\n",
        "    # 1. Divisible by 4 but NOT divisible by 100 (e.g., 2024)\n",
        "    # 2. Divisible by 400 (e.g., 2000)\n",
        "    return (year % 4 == 0 and year % 100 != 0) or (year % 400 == 0)\n",
        "\n",
        "\n",
        "# Main function to handle user input and output\n",
        "def main():\n",
        "    # ask the user to enter a year and convert it to an integer\n",
        "    year = int(input(\"Enter a year: \"))\n",
        "\n",
        "    # Check if the year is a leap year using the is_leap_year function\n",
        "    if is_leap_year(year):\n",
        "        # print if it's a leap year\n",
        "        print(\"\\nThat's a leap year!\")\n",
        "    else:\n",
        "        # print if it's not a leap year\n",
        "        print(\"\\nThat's not a leap year.\")\n",
        "\n",
        "if __name__ == '__main__':\n",
        "    main()\n"
      ],
      "metadata": {
        "id": "Q-435VLjnPuZ",
        "outputId": "08d54f23-05a3-4dc9-8986-0131bbbb2252",
        "colab": {
          "base_uri": "https://localhost:8080/"
        }
      },
      "execution_count": 12,
      "outputs": [
        {
          "output_type": "stream",
          "name": "stdout",
          "text": [
            "Enter a year: 2025\n",
            "\n",
            "That's not a leap year.\n"
          ]
        }
      ]
    },
    {
      "cell_type": "markdown",
      "source": [
        "**04_tall_enough_to_ride**"
      ],
      "metadata": {
        "id": "ZZV0G2yj1kTh"
      }
    },
    {
      "cell_type": "code",
      "source": [
        "# requirement to pass\n",
        "MINIMUM_HEIGHT:int = 50\n",
        "\n",
        "# function to check the requirements\n",
        "def check_height():\n",
        "  # take user input for checking\n",
        "  height = float(input(\"What is your height? \"))\n",
        "\n",
        "  if height >= MINIMUM_HEIGHT:\n",
        "    # display message on screen to have matched requirements\n",
        "    print(\"\\nYou are tall enough to enjoy the ride!.\")\n",
        "  else:\n",
        "    # display message to deny access\n",
        "    print(\"\\nSorry! you are not allowed to ride\")\n",
        "\n",
        "if __name__ == '__main__':\n",
        "  check_height()"
      ],
      "metadata": {
        "id": "7PZwtVMV1my-",
        "outputId": "7a6391cf-3850-4ca7-ffd4-26a2e0a9671f",
        "colab": {
          "base_uri": "https://localhost:8080/"
        }
      },
      "execution_count": 19,
      "outputs": [
        {
          "output_type": "stream",
          "name": "stdout",
          "text": [
            "What is your height? 49\n",
            "\n",
            "Sorry! you are not allowed to ride\n"
          ]
        }
      ]
    },
    {
      "cell_type": "markdown",
      "source": [
        "**05_random_numbers**"
      ],
      "metadata": {
        "id": "HenrkxUkF5s5"
      }
    },
    {
      "cell_type": "code",
      "source": [
        "# import random module to generate random numbers\n",
        "import random\n",
        "\n",
        "# function to generate random numbers\n",
        "def generate_random():\n",
        "  # loop to generate a total of 10 numbers\n",
        "  for i in range(10):\n",
        "    # this line prints random numbers withing the range of 1 to 100\n",
        "    print(random.randint(1,100))\n",
        "\n",
        "if __name__ == '__main__':\n",
        "  # invoke function\n",
        "  generate_random()\n"
      ],
      "metadata": {
        "id": "cvjeNu-gF7yD",
        "outputId": "e18e5ff0-0c89-465e-d9d0-54cd70677132",
        "colab": {
          "base_uri": "https://localhost:8080/"
        }
      },
      "execution_count": 40,
      "outputs": [
        {
          "output_type": "stream",
          "name": "stdout",
          "text": [
            "41\n",
            "88\n",
            "62\n",
            "82\n",
            "4\n",
            "34\n",
            "34\n",
            "83\n",
            "29\n",
            "52\n"
          ]
        }
      ]
    }
  ]
}