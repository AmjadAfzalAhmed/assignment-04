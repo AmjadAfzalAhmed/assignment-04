{
  "nbformat": 4,
  "nbformat_minor": 0,
  "metadata": {
    "colab": {
      "provenance": [],
      "authorship_tag": "ABX9TyMqZ+UXGxehnTtc3s0y3gEc",
      "include_colab_link": true
    },
    "kernelspec": {
      "name": "python3",
      "display_name": "Python 3"
    },
    "language_info": {
      "name": "python"
    }
  },
  "cells": [
    {
      "cell_type": "markdown",
      "metadata": {
        "id": "view-in-github",
        "colab_type": "text"
      },
      "source": [
        "<a href=\"https://colab.research.google.com/github/AmjadAfzalAhmed/assignment-04/blob/main/02_Lists.ipynb\" target=\"_parent\"><img src=\"https://colab.research.google.com/assets/colab-badge.svg\" alt=\"Open In Colab\"/></a>"
      ]
    },
    {
      "cell_type": "markdown",
      "source": [
        "**01_add_many_number**"
      ],
      "metadata": {
        "id": "KxLk904RfHd_"
      }
    },
    {
      "cell_type": "code",
      "source": [
        "# Function that takes a list of numbers as input\n",
        "def add_numbers(numbers):\n",
        "    # Initialize total_sum to 0\n",
        "    total_sum = 0\n",
        "    # Iterate over the 'numbers' list and extract each value\n",
        "    for num in numbers:\n",
        "        # Add each number to total_sum to accumulate the sum\n",
        "        total_sum += num\n",
        "    # Print the total sum value after iterating through the list\n",
        "    print(f'Total sum value is {total_sum}.')\n",
        "\n",
        "if __name__ == '__main__':\n",
        "    # Calling the function with a list of numbers to get the sum\n",
        "    add_numbers([2, 3, 4, 5])\n",
        "\n"
      ],
      "metadata": {
        "colab": {
          "base_uri": "https://localhost:8080/"
        },
        "id": "IbOPFi4riVSD",
        "outputId": "b09482dc-f3f6-4266-cfd6-0c08f90d6145"
      },
      "execution_count": 14,
      "outputs": [
        {
          "output_type": "stream",
          "name": "stdout",
          "text": [
            "Total sum value is 14.\n"
          ]
        }
      ]
    },
    {
      "cell_type": "markdown",
      "source": [
        "**02_double_list**"
      ],
      "metadata": {
        "id": "E-7y2aSUmfbi"
      }
    },
    {
      "cell_type": "code",
      "source": [
        "# create list of values to be doubled\n",
        "initial_list = [2,3,4,5,6]\n",
        "# create an empty list that will store doubled values\n",
        "double_list = []\n",
        "\n",
        "# define function\n",
        "def doubled_list():\n",
        "  # iterate over first list\n",
        "  for val in initial_list:\n",
        "    # get values from first list and multiply\n",
        "    val *= 2\n",
        "    # append doubled value to empty list\n",
        "    double_list.append(val)\n",
        "  # this now prints doubled values list\n",
        "  print('Initial List: ', initial_list)\n",
        "  print(f'\\nThe Double Vlaue List : {double_list}')\n",
        "\n",
        "if __name__ == '__main__':\n",
        "  doubled_list()\n",
        "\n",
        "\n"
      ],
      "metadata": {
        "colab": {
          "base_uri": "https://localhost:8080/"
        },
        "id": "0exVTspwmhPH",
        "outputId": "07cc2fc9-9e49-4329-dc9e-02fb8e317c44"
      },
      "execution_count": 32,
      "outputs": [
        {
          "output_type": "stream",
          "name": "stdout",
          "text": [
            "Initial List:  [2, 3, 4, 5, 6]\n",
            "\n",
            "The Double Vlaue List : [4, 6, 8, 10, 12]\n"
          ]
        }
      ]
    }
  ]
}