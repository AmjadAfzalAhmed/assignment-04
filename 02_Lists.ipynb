{
  "nbformat": 4,
  "nbformat_minor": 0,
  "metadata": {
    "colab": {
      "provenance": [],
      "authorship_tag": "ABX9TyN4mi7mKHoFWszJEHzbssVp",
      "include_colab_link": true
    },
    "kernelspec": {
      "name": "python3",
      "display_name": "Python 3"
    },
    "language_info": {
      "name": "python"
    }
  },
  "cells": [
    {
      "cell_type": "markdown",
      "metadata": {
        "id": "view-in-github",
        "colab_type": "text"
      },
      "source": [
        "<a href=\"https://colab.research.google.com/github/AmjadAfzalAhmed/assignment-04/blob/main/02_Lists.ipynb\" target=\"_parent\"><img src=\"https://colab.research.google.com/assets/colab-badge.svg\" alt=\"Open In Colab\"/></a>"
      ]
    },
    {
      "cell_type": "markdown",
      "source": [
        "**01_add_many_number**"
      ],
      "metadata": {
        "id": "KxLk904RfHd_"
      }
    },
    {
      "cell_type": "code",
      "source": [
        "# Function that takes a list of numbers as input\n",
        "def add_numbers(numbers):\n",
        "    # Initialize total_sum to 0\n",
        "    total_sum = 0\n",
        "    # Iterate over the 'numbers' list and extract each value\n",
        "    for num in numbers:\n",
        "        # Add each number to total_sum to accumulate the sum\n",
        "        total_sum += num\n",
        "    # Print the total sum value after iterating through the list\n",
        "    print(f'Total sum value is {total_sum}.')\n",
        "\n",
        "if __name__ == '__main__':\n",
        "    # Calling the function with a list of numbers to get the sum\n",
        "    add_numbers([2, 3, 4, 5])\n",
        "\n"
      ],
      "metadata": {
        "colab": {
          "base_uri": "https://localhost:8080/"
        },
        "id": "IbOPFi4riVSD",
        "outputId": "b09482dc-f3f6-4266-cfd6-0c08f90d6145"
      },
      "execution_count": null,
      "outputs": [
        {
          "output_type": "stream",
          "name": "stdout",
          "text": [
            "Total sum value is 14.\n"
          ]
        }
      ]
    },
    {
      "cell_type": "markdown",
      "source": [
        "**02_double_list**"
      ],
      "metadata": {
        "id": "E-7y2aSUmfbi"
      }
    },
    {
      "cell_type": "code",
      "source": [
        "# create list of values to be doubled\n",
        "initial_list = [2,3,4,5,6]\n",
        "# create an empty list that will store doubled values\n",
        "double_list = []\n",
        "\n",
        "# define function\n",
        "def doubled_list():\n",
        "  # iterate over first list\n",
        "  for val in initial_list:\n",
        "    # get values from first list and multiply\n",
        "    val *= 2\n",
        "    # append doubled value to empty list\n",
        "    double_list.append(val)\n",
        "  # this now prints doubled values list\n",
        "  print('Initial List: ', initial_list)\n",
        "  print(f'\\nThe Double Vlaue List : {double_list}')\n",
        "\n",
        "if __name__ == '__main__':\n",
        "  doubled_list()\n",
        "\n",
        "\n"
      ],
      "metadata": {
        "colab": {
          "base_uri": "https://localhost:8080/"
        },
        "id": "0exVTspwmhPH",
        "outputId": "07cc2fc9-9e49-4329-dc9e-02fb8e317c44"
      },
      "execution_count": null,
      "outputs": [
        {
          "output_type": "stream",
          "name": "stdout",
          "text": [
            "Initial List:  [2, 3, 4, 5, 6]\n",
            "\n",
            "The Double Vlaue List : [4, 6, 8, 10, 12]\n"
          ]
        }
      ]
    },
    {
      "cell_type": "markdown",
      "source": [
        "**03_erase_canvas**"
      ],
      "metadata": {
        "id": "yEo7_glABqCY"
      }
    },
    {
      "cell_type": "code",
      "source": [
        "''' Just a copy paste code from the given repository as I could not run it due\n",
        "    to some issues and being in a hurry to complete the project due to shortage\n",
        "    of time as there are so many assginments given.\n",
        "'''\n",
        "from graphics import Canvas\n",
        "import time\n",
        "\n",
        "CANVAS_WIDTH : int = 400\n",
        "CANVAS_HEIGHT : int = 400\n",
        "\n",
        "CELL_SIZE : int = 40\n",
        "ERASER_SIZE : int = 20\n",
        "\n",
        "def erase_objects(canvas, eraser):\n",
        "    \"\"\"Erase objects in contact with the eraser\"\"\"\n",
        "    # Get mouse info to help us know which cells to delete\n",
        "    mouse_x = canvas.get_mouse_x()\n",
        "    mouse_y = canvas.get_mouse_y()\n",
        "\n",
        "    # Calculate where our eraser is\n",
        "    left_x = mouse_x\n",
        "    top_y = mouse_y\n",
        "    right_x = left_x + ERASER_SIZE\n",
        "    bottom_y = top_y + ERASER_SIZE\n",
        "\n",
        "    # Find things that overlap with our eraser\n",
        "    overlapping_objects = canvas.find_overlapping(left_x, top_y, right_x, bottom_y)\n",
        "\n",
        "    # For everything that overlaps with our eraser (that isn't our eraser), change\n",
        "    # its color to white\n",
        "    for overlapping_object in overlapping_objects:\n",
        "        if overlapping_object != eraser:\n",
        "            canvas.set_color(overlapping_object, 'white')\n",
        "\n",
        "# There is no need to edit code beyond this point\n",
        "\n",
        "def main():\n",
        "    canvas = Canvas(CANVAS_WIDTH, CANVAS_HEIGHT)\n",
        "\n",
        "    num_rows = CANVAS_HEIGHT // CELL_SIZE  # Figure out how many rows of cells we need\n",
        "    num_cols = CANVAS_WIDTH // CELL_SIZE   # Figure out how many columns of cells we need\n",
        "\n",
        "    # Make a grid of squares based on the number of rows and columns.\n",
        "    # The rows and columns along with our cell size help determine where\n",
        "    # each individual cell belongs in our grid!\n",
        "    for row in range(num_rows):\n",
        "        for col in range(num_cols):\n",
        "            left_x = col * CELL_SIZE\n",
        "            top_y = row * CELL_SIZE\n",
        "            right_x = left_x + CELL_SIZE   # The right coordinate of the cell is CELL_SIZE pixels away from the left\n",
        "            bottom_y = top_y + CELL_SIZE   # The bottom coordinate of the cell is CELL_SIZE pixels away from the top\n",
        "\n",
        "            # Create a single cell in the grid\n",
        "            cell = canvas.create_rectangle(left_x, top_y, right_x, bottom_y, 'blue')\n",
        "\n",
        "\n",
        "    canvas.wait_for_click()  # Wait for the user to click before creating the eraser\n",
        "\n",
        "    last_click_x, last_click_y = canvas.get_last_click()  # Get the starting location for the eraser\n",
        "\n",
        "    # Create our eraser\n",
        "    eraser = canvas.create_rectangle(\n",
        "        last_click_x,\n",
        "        last_click_y,\n",
        "        last_click_x + ERASER_SIZE,\n",
        "        last_click_y + ERASER_SIZE,\n",
        "        'pink'\n",
        "    )\n",
        "\n",
        "    # Move the eraser, and erase what it's touching\n",
        "    while True:\n",
        "        # Get where our mouse is and move the eraser to there\n",
        "        mouse_x = canvas.get_mouse_x()\n",
        "        mouse_y = canvas.get_mouse_y()\n",
        "        canvas.moveto(eraser, mouse_x, mouse_y)\n",
        "\n",
        "        # Erase anything touching the eraser\n",
        "        erase_objects(canvas, eraser)\n",
        "\n",
        "        time.sleep(0.05)\n",
        "\n",
        "\n",
        "if __name__ == '__main__':\n",
        "    main()"
      ],
      "metadata": {
        "colab": {
          "base_uri": "https://localhost:8080/",
          "height": 383
        },
        "id": "ZDx92qLkBvWU",
        "outputId": "da06a03d-dc90-4ec3-a6f1-cf6b447d4921"
      },
      "execution_count": 6,
      "outputs": [
        {
          "output_type": "error",
          "ename": "ModuleNotFoundError",
          "evalue": "No module named 'graphics'",
          "traceback": [
            "\u001b[0;31m---------------------------------------------------------------------------\u001b[0m",
            "\u001b[0;31mModuleNotFoundError\u001b[0m                       Traceback (most recent call last)",
            "\u001b[0;32m<ipython-input-6-77e8d03fdbf0>\u001b[0m in \u001b[0;36m<cell line: 0>\u001b[0;34m()\u001b[0m\n\u001b[1;32m      3\u001b[0m     \u001b[0mof\u001b[0m \u001b[0mtime\u001b[0m \u001b[0;32mas\u001b[0m \u001b[0mthere\u001b[0m \u001b[0mare\u001b[0m \u001b[0mso\u001b[0m \u001b[0mmany\u001b[0m \u001b[0massginments\u001b[0m \u001b[0mgiven\u001b[0m\u001b[0;34m.\u001b[0m\u001b[0;34m\u001b[0m\u001b[0;34m\u001b[0m\u001b[0m\n\u001b[1;32m      4\u001b[0m '''\n\u001b[0;32m----> 5\u001b[0;31m \u001b[0;32mfrom\u001b[0m \u001b[0mgraphics\u001b[0m \u001b[0;32mimport\u001b[0m \u001b[0mCanvas\u001b[0m\u001b[0;34m\u001b[0m\u001b[0;34m\u001b[0m\u001b[0m\n\u001b[0m\u001b[1;32m      6\u001b[0m \u001b[0;32mimport\u001b[0m \u001b[0mtime\u001b[0m\u001b[0;34m\u001b[0m\u001b[0;34m\u001b[0m\u001b[0m\n\u001b[1;32m      7\u001b[0m \u001b[0;34m\u001b[0m\u001b[0m\n",
            "\u001b[0;31mModuleNotFoundError\u001b[0m: No module named 'graphics'",
            "",
            "\u001b[0;31m---------------------------------------------------------------------------\u001b[0;32m\nNOTE: If your import is failing due to a missing package, you can\nmanually install dependencies using either !pip or !apt.\n\nTo view examples of installing some common dependencies, click the\n\"Open Examples\" button below.\n\u001b[0;31m---------------------------------------------------------------------------\u001b[0m\n"
          ],
          "errorDetails": {
            "actions": [
              {
                "action": "open_url",
                "actionText": "Open Examples",
                "url": "/notebooks/snippets/importing_libraries.ipynb"
              }
            ]
          }
        }
      ]
    },
    {
      "cell_type": "markdown",
      "source": [
        "**04_flowing_with_data_structures**"
      ],
      "metadata": {
        "id": "ZgnTubzOCeB1"
      }
    },
    {
      "cell_type": "code",
      "source": [
        "# defining function to take a list and message as params\n",
        "def add_three(my_list, message):\n",
        "  # initialize iterator from 0 index to index 2\n",
        "  for i in range(3):\n",
        "    # adding message to empty list as per iterations\n",
        "    my_list.append(message)\n",
        "\n",
        "# main function to trigger the program\n",
        "def main():\n",
        "  # user added message\n",
        "  message = input(\"Enter your message to be added to list: \")\n",
        "  my_list = []\n",
        "  # invoke function to update list\n",
        "  add_three(my_list,message)\n",
        "  print('\\n',my_list)\n",
        "\n",
        "if __name__ == '__main__':\n",
        "  main()"
      ],
      "metadata": {
        "colab": {
          "base_uri": "https://localhost:8080/"
        },
        "id": "WrrnykEqCgex",
        "outputId": "7b6810de-dca3-478f-af68-a2e72329f4e5"
      },
      "execution_count": 10,
      "outputs": [
        {
          "output_type": "stream",
          "name": "stdout",
          "text": [
            "Enter your message to be added to list: salam everyone\n",
            "\n",
            " ['salam everyone', 'salam everyone', 'salam everyone']\n"
          ]
        }
      ]
    },
    {
      "cell_type": "markdown",
      "source": [
        "**05_get_first_element**"
      ],
      "metadata": {
        "id": "Y-cRbKfOFSiA"
      }
    },
    {
      "cell_type": "code",
      "source": [
        "# function to get first item in the list and print\n",
        "def get_first_item(first):\n",
        "  # this following line prints created list with name first\n",
        "  print('\\n',first)\n",
        "  # the following line prints the message with first item from list\n",
        "  print(f'\\nFirst item in the list is {first[0]}.')\n",
        "\n",
        "# function to update list depending on user input\n",
        "def update_list():\n",
        "\n",
        "  # creating empty list\n",
        "  first = []\n",
        "  # the following takes first user input for updating or exiting without updation\n",
        "  item = input(\"Enter an item to add or press Enter button to stop: \")\n",
        "\n",
        "  # Loop to update the list depending on conditions applied within\n",
        "  while item != \"\":\n",
        "    first.append(item)\n",
        "    # the following keeps updating list unless the user presses enter button to discontinue\n",
        "    item = input(\"Enter an item to add or press Enter button to stop: \")\n",
        "  return first\n",
        "\n",
        "def main():\n",
        "\n",
        "  first = update_list()\n",
        "  get_first_item(first)\n",
        "\n",
        "if __name__ == '__main__':\n",
        "  main()"
      ],
      "metadata": {
        "colab": {
          "base_uri": "https://localhost:8080/"
        },
        "id": "6YHTZfurFU-k",
        "outputId": "b8bca7a5-c265-47e5-bde7-491e40c6d5c3"
      },
      "execution_count": 27,
      "outputs": [
        {
          "output_type": "stream",
          "name": "stdout",
          "text": [
            "Enter an item to add or press Enter button to stop: 5\n",
            "Enter an item to add or press Enter button to stop: 3\n",
            "Enter an item to add or press Enter button to stop: 2\n",
            "Enter an item to add or press Enter button to stop: \n",
            "\n",
            " ['5', '3', '2']\n",
            "\n",
            "First item in the list is 5.\n"
          ]
        }
      ]
    },
    {
      "cell_type": "markdown",
      "source": [
        "**\n",
        "**"
      ],
      "metadata": {
        "id": "Z2ICbiPZKhJ0"
      }
    },
    {
      "cell_type": "code",
      "source": [
        "item_list = ['apple','mango','banana','orange','strawberry']\n",
        "\n",
        "def get_last():\n",
        "  last_item = item_list[-1]\n",
        "  print(f'\\nThe Last item in the list is {last_item}.')\n",
        "\n",
        "if __name__ == '__main__':\n",
        "  get_last()"
      ],
      "metadata": {
        "colab": {
          "base_uri": "https://localhost:8080/"
        },
        "id": "c4gFliNKZiPi",
        "outputId": "aac400a1-84b1-4902-a432-1dd5d197bb53"
      },
      "execution_count": 31,
      "outputs": [
        {
          "output_type": "stream",
          "name": "stdout",
          "text": [
            "\n",
            "The Last item in the list is strawberry.\n"
          ]
        }
      ]
    },
    {
      "cell_type": "markdown",
      "source": [
        "**07_get_list**"
      ],
      "metadata": {
        "id": "Rf_zrhO2e8R2"
      }
    },
    {
      "cell_type": "code",
      "source": [
        "def main():\n",
        "\n",
        "  new_list = []\n",
        "\n",
        "  new_item = input(\"Enter an item to be initiate list: \")\n",
        "\n",
        "  while new_item:\n",
        "\n",
        "    new_list.append(new_item)\n",
        "\n",
        "    new_item = input(\"Enter item for addition to list: \")\n",
        "\n",
        "    print(new_list)\n",
        "\n",
        "if __name__ == '__main__':\n",
        "  main()\n",
        "\n",
        ""
      ],
      "metadata": {
        "colab": {
          "base_uri": "https://localhost:8080/"
        },
        "id": "OwLoPqJjfArU",
        "outputId": "40129c9b-71ba-4ed3-c75a-67e81b0ea66c"
      },
      "execution_count": 42,
      "outputs": [
        {
          "output_type": "stream",
          "name": "stdout",
          "text": [
            "Enter an item to be initiate list: me\n",
            "Enter item for addition to list: you\n",
            "['me']\n",
            "Enter item for addition to list: them\n",
            "['me', 'you']\n",
            "Enter item for addition to list: us\n",
            "['me', 'you', 'them']\n",
            "Enter item for addition to list: \n",
            "['me', 'you', 'them', 'us']\n"
          ]
        }
      ]
    }
  ]
}