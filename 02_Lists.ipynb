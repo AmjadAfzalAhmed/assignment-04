{
  "nbformat": 4,
  "nbformat_minor": 0,
  "metadata": {
    "colab": {
      "provenance": [],
      "authorship_tag": "ABX9TyNCTFrsCL0BgNhiSgLSX0L6",
      "include_colab_link": true
    },
    "kernelspec": {
      "name": "python3",
      "display_name": "Python 3"
    },
    "language_info": {
      "name": "python"
    }
  },
  "cells": [
    {
      "cell_type": "markdown",
      "metadata": {
        "id": "view-in-github",
        "colab_type": "text"
      },
      "source": [
        "<a href=\"https://colab.research.google.com/github/AmjadAfzalAhmed/assignment-04/blob/main/02_Lists.ipynb\" target=\"_parent\"><img src=\"https://colab.research.google.com/assets/colab-badge.svg\" alt=\"Open In Colab\"/></a>"
      ]
    },
    {
      "cell_type": "markdown",
      "source": [
        "**01_add_many_number**"
      ],
      "metadata": {
        "id": "KxLk904RfHd_"
      }
    },
    {
      "cell_type": "code",
      "source": [
        "# Function that takes a list of numbers as input\n",
        "def add_numbers(numbers):\n",
        "    # Initialize total_sum to 0\n",
        "    total_sum = 0\n",
        "    # Iterate over the 'numbers' list and extract each value\n",
        "    for num in numbers:\n",
        "        # Add each number to total_sum to accumulate the sum\n",
        "        total_sum += num\n",
        "    # Print the total sum value after iterating through the list\n",
        "    print(f'Total sum value is {total_sum}.')\n",
        "\n",
        "if __name__ == '__main__':\n",
        "    # Calling the function with a list of numbers to get the sum\n",
        "    add_numbers([2, 3, 4, 5])\n",
        "\n"
      ],
      "metadata": {
        "colab": {
          "base_uri": "https://localhost:8080/"
        },
        "id": "IbOPFi4riVSD",
        "outputId": "b09482dc-f3f6-4266-cfd6-0c08f90d6145"
      },
      "execution_count": 14,
      "outputs": [
        {
          "output_type": "stream",
          "name": "stdout",
          "text": [
            "Total sum value is 14.\n"
          ]
        }
      ]
    }
  ]
}