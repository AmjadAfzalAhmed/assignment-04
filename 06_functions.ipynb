{
  "nbformat": 4,
  "nbformat_minor": 0,
  "metadata": {
    "colab": {
      "provenance": [],
      "authorship_tag": "ABX9TyO81pLh1LP2RcfiXYaq2Sjy",
      "include_colab_link": true
    },
    "kernelspec": {
      "name": "python3",
      "display_name": "Python 3"
    },
    "language_info": {
      "name": "python"
    }
  },
  "cells": [
    {
      "cell_type": "markdown",
      "metadata": {
        "id": "view-in-github",
        "colab_type": "text"
      },
      "source": [
        "<a href=\"https://colab.research.google.com/github/AmjadAfzalAhmed/assignment-04/blob/main/06_functions.ipynb\" target=\"_parent\"><img src=\"https://colab.research.google.com/assets/colab-badge.svg\" alt=\"Open In Colab\"/></a>"
      ]
    },
    {
      "cell_type": "markdown",
      "source": [
        "**00_averages**"
      ],
      "metadata": {
        "id": "rbR0UlEz7WoD"
      }
    },
    {
      "cell_type": "code",
      "source": [
        "def calc_avg():\n",
        "  num1 = float(input(\"Enter first value: \"))\n",
        "  num2 = float(input(\"Enter second value: \"))\n",
        "  print((num1 * num2) / 2)\n",
        "\n",
        "if __name__ == '__main__':\n",
        "  calc_avg()"
      ],
      "metadata": {
        "colab": {
          "base_uri": "https://localhost:8080/"
        },
        "id": "YgNO9_xF7Yl-",
        "outputId": "ab0c4a7f-20cf-4b75-b094-6af300b3988f"
      },
      "execution_count": 6,
      "outputs": [
        {
          "output_type": "stream",
          "name": "stdout",
          "text": [
            "Enter first value: 23\n",
            "Enter second value: 3\n",
            "34.5\n"
          ]
        }
      ]
    },
    {
      "cell_type": "markdown",
      "source": [
        "**01_chaotic_counting**"
      ],
      "metadata": {
        "id": "0iY-j5zG9HZB"
      }
    },
    {
      "cell_type": "code",
      "source": [
        "import random\n",
        "\n",
        "DONE_LIKELIHOOD = 2\n",
        "\n",
        "def done():\n",
        "    \"\"\"Randomly returns True with DONE_LIKELIHOOD probability\"\"\"\n",
        "    return random.random() < DONE_LIKELIHOOD\n",
        "\n",
        "def chaotic_counting():\n",
        "    \"\"\"Counts from 1 to 10, but may stop early if done() returns True\"\"\"\n",
        "    print(\"I'm going to count until 10 or until I feel like stopping, whichever comes first.\", end=' ')\n",
        "\n",
        "    for i in range(1, 11):  # 1 to 10\n",
        "        if done():  # Check if we should stop\n",
        "            return  # Exit the function immediately\n",
        "        print(i, end=' ')  # Print the number with space\n",
        "\n",
        "    # If we get here, we counted all the way to 10\n",
        "\n",
        "def main():\n",
        "    chaotic_counting()\n",
        "    print(\"I'm done.\")\n",
        "\n",
        "if __name__ == '__main__':\n",
        "    main()"
      ],
      "metadata": {
        "colab": {
          "base_uri": "https://localhost:8080/"
        },
        "id": "RhhS7pDN98EB",
        "outputId": "22f858dd-2ef1-478b-84cd-b9b114cf576b"
      },
      "execution_count": 15,
      "outputs": [
        {
          "output_type": "stream",
          "name": "stdout",
          "text": [
            "I'm going to count until 10 or until I feel like stopping, whichever comes first. I'm done.\n"
          ]
        }
      ]
    },
    {
      "cell_type": "markdown",
      "source": [
        "**02_count_even**"
      ],
      "metadata": {
        "id": "9Can85UH-wZI"
      }
    },
    {
      "cell_type": "code",
      "source": [
        "\n",
        "def count_even(my_list):\n",
        "\n",
        "    while True:\n",
        "        user_input = input(\"Enter a value or press enter to stop: \")\n",
        "        if user_input == \"\":\n",
        "            break\n",
        "        try:\n",
        "            num = int(user_input)\n",
        "            my_list.append(num)\n",
        "        except ValueError:\n",
        "            print(\"Please enter a value or press enter to stop.\")\n",
        "\n",
        "    # Count even numbers\n",
        "    even_nums = 0\n",
        "    for num in my_list:\n",
        "        if num % 2 == 0:\n",
        "            even_nums += 1\n",
        "    print('Updated List', my_list)\n",
        "    # Print the result\n",
        "    print(f'\\nTotal count of even numbers in the list is {even_nums}.')\n",
        "\n",
        "my_list = []\n",
        "\n",
        "\n",
        "if __name__ == '__main__':\n",
        "  count_even(my_list)"
      ],
      "metadata": {
        "colab": {
          "base_uri": "https://localhost:8080/"
        },
        "id": "BAMl9bS3-yIt",
        "outputId": "08b43796-a5b6-4ce9-8221-04e14839836e"
      },
      "execution_count": 30,
      "outputs": [
        {
          "output_type": "stream",
          "name": "stdout",
          "text": [
            "Enter a value or press enter to stop: 4\n",
            "Enter a value or press enter to stop: 1\n",
            "Enter a value or press enter to stop: 2\n",
            "Enter a value or press enter to stop: 5\n",
            "Enter a value or press enter to stop: \n",
            "Updated List [4, 1, 2, 5]\n",
            "\n",
            "Total count of even numbers in the list is 2.\n"
          ]
        }
      ]
    }
  ]
}