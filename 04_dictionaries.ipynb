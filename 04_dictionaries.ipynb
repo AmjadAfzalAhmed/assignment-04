{
  "nbformat": 4,
  "nbformat_minor": 0,
  "metadata": {
    "colab": {
      "provenance": [],
      "authorship_tag": "ABX9TyNZSbx7+XgWs59v+unRcMZK",
      "include_colab_link": true
    },
    "kernelspec": {
      "name": "python3",
      "display_name": "Python 3"
    },
    "language_info": {
      "name": "python"
    }
  },
  "cells": [
    {
      "cell_type": "markdown",
      "metadata": {
        "id": "view-in-github",
        "colab_type": "text"
      },
      "source": [
        "<a href=\"https://colab.research.google.com/github/AmjadAfzalAhmed/assignment-04/blob/main/04_dictionaries.ipynb\" target=\"_parent\"><img src=\"https://colab.research.google.com/assets/colab-badge.svg\" alt=\"Open In Colab\"/></a>"
      ]
    },
    {
      "cell_type": "markdown",
      "source": [
        "**00_count_nums**"
      ],
      "metadata": {
        "id": "zfWhToH7RSjr"
      }
    },
    {
      "cell_type": "code",
      "source": [
        "def count_numbers():\n",
        "    # Counts how many times each number appears in user input.\n",
        "\n",
        "    # Dictionary to store number counts\n",
        "    counts = {}\n",
        "\n",
        "    while True:\n",
        "        # Ask the user for a number\n",
        "        num = input(\"Enter a number (or press enter to stop): \").strip()\n",
        "\n",
        "        # stop taking input if Enter pressed\n",
        "        if not num:\n",
        "            break\n",
        "\n",
        "        try:\n",
        "            # this line converts the input to an integer\n",
        "            number = int(num)\n",
        "\n",
        "            # Use dict.get() to get the current count or 0 if the number is new\n",
        "            # Then add 1 to update the count\n",
        "            counts[number] = counts.get(number, 0) + 1\n",
        "\n",
        "        except ValueError:\n",
        "            # handling non-numeric inputs\n",
        "            print(\"invalid number.\")\n",
        "\n",
        "    # this blank print is just to create blank space before final code print\n",
        "    print()\n",
        "    # Loop through the dictionary keys (numbers)\n",
        "    for num in sorted(counts):\n",
        "        times = counts[num]\n",
        "        # Print how many times each number appears\n",
        "        print(f\"{num} appears {times} times.\")\n",
        "\n",
        "\n",
        "if __name__ == '__main__':\n",
        "    count_numbers()\n"
      ],
      "metadata": {
        "colab": {
          "base_uri": "https://localhost:8080/"
        },
        "id": "YVDjO7BNRVMb",
        "outputId": "9447a8e7-5b06-433e-fd56-5ee5563d7c8d"
      },
      "execution_count": 13,
      "outputs": [
        {
          "output_type": "stream",
          "name": "stdout",
          "text": [
            "Enter a number (or press enter to stop): 2\n",
            "Enter a number (or press enter to stop): 3\n",
            "Enter a number (or press enter to stop): 2\n",
            "Enter a number (or press enter to stop): 3\n",
            "Enter a number (or press enter to stop): 1\n",
            "Enter a number (or press enter to stop): \n",
            "\n",
            "1 appears 1 times.\n",
            "2 appears 2 times.\n",
            "3 appears 2 times.\n"
          ]
        }
      ]
    },
    {
      "cell_type": "markdown",
      "source": [
        "**01_phonebook**"
      ],
      "metadata": {
        "id": "ei9hZ4WKj_3L"
      }
    },
    {
      "cell_type": "code",
      "source": [
        "def phonebook():\n",
        "    contacts = {}\n",
        "    while True:\n",
        "        print(\"\\n1. Add Contact\\n2. Search\\n3. View All\\n4. Exit\")\n",
        "        choice = input(\"Choose: \").strip()\n",
        "\n",
        "        if choice == \"1\":\n",
        "            name = input(\"Name: \").strip()\n",
        "            phone = input(\"Phone: \").strip()\n",
        "            contacts[name] = phone\n",
        "            print(f\"{name} added!\")\n",
        "\n",
        "        elif choice == \"2\":\n",
        "            name = input(\"Name: \").strip()\n",
        "            print(f\"{contacts.get(name, 'Not found')}\")\n",
        "\n",
        "        elif choice == \"3\":\n",
        "            for name, phone in sorted(contacts.items()):\n",
        "                print(f\"{name}: {phone}\")\n",
        "\n",
        "        elif choice == \"4\":\n",
        "            break\n",
        "\n",
        "if __name__ == \"__main__\":\n",
        "    phonebook()"
      ],
      "metadata": {
        "colab": {
          "base_uri": "https://localhost:8080/"
        },
        "id": "GdlX8IDYfSLu",
        "outputId": "dc24ce11-f4bc-414a-eeb7-43a412c39fa8"
      },
      "execution_count": 17,
      "outputs": [
        {
          "name": "stdout",
          "output_type": "stream",
          "text": [
            "\n",
            "1. Add Contact\n",
            "2. Search\n",
            "3. View All\n",
            "4. Exit\n",
            "Choose: 1\n",
            "Name: amjad\n",
            "Phone: 331212\n",
            "amjad added!\n",
            "\n",
            "1. Add Contact\n",
            "2. Search\n",
            "3. View All\n",
            "4. Exit\n",
            "Choose: 4\n"
          ]
        }
      ]
    },
    {
      "cell_type": "markdown",
      "source": [
        "**02_pop_up_shop**"
      ],
      "metadata": {
        "id": "vFVIYsuDlPVV"
      }
    },
    {
      "cell_type": "code",
      "source": [
        "def main():\n",
        "    fruits = {'apple': 1.5, 'durian': 50, 'jackfruit': 80, 'kiwi': 1, 'rambutan': 1.5, 'mango': 5}\n",
        "\n",
        "    total_cost = 0\n",
        "    for fruit_name in fruits:\n",
        "        price = fruits[fruit_name]\n",
        "        amount_bought = int(input(\"How many (\" + fruit_name + \") do you want to buy?: \"))\n",
        "        total_cost += (price * amount_bought)\n",
        "\n",
        "    print(\"Your total is $\" + str(total_cost))\n",
        "\n",
        "if __name__ == '__main__':\n",
        "    main()"
      ],
      "metadata": {
        "colab": {
          "base_uri": "https://localhost:8080/"
        },
        "id": "_1AdSaHEkl4U",
        "outputId": "4eb967fe-614c-4707-f197-5c155c075915"
      },
      "execution_count": 18,
      "outputs": [
        {
          "output_type": "stream",
          "name": "stdout",
          "text": [
            "How many (apple) do you want to buy?: 2\n",
            "How many (durian) do you want to buy?: 0\n",
            "How many (jackfruit) do you want to buy?: 4\n",
            "How many (kiwi) do you want to buy?: 1\n",
            "How many (rambutan) do you want to buy?: 2\n",
            "How many (mango) do you want to buy?: 1\n",
            "Your total is $332.0\n"
          ]
        }
      ]
    },
    {
      "cell_type": "markdown",
      "source": [
        "**03_powerful_passwords**"
      ],
      "metadata": {
        "id": "CpfKpYnIl7YG"
      }
    },
    {
      "cell_type": "code",
      "source": [
        "import hashlib\n",
        "\n",
        "def hash_password(password: str) -> str:\n",
        "    \"\"\"Hashes a password using SHA-256 algorithm.\n",
        "\n",
        "    Args:\n",
        "        password: The plain text password to hash\n",
        "\n",
        "    Returns:\n",
        "        A 64-character hexadecimal hash string\n",
        "    \"\"\"\n",
        "    # Encode the password as UTF-8 bytes\n",
        "    # Hash it with SHA-256 and return as hex string\n",
        "    return hashlib.sha256(password.encode('utf-8')).hexdigest()\n",
        "\n",
        "def login(stored_logins: dict, email: str, password_to_check: str) -> bool:\n",
        "    \"\"\"Checks if a password matches the stored hash for a given email.\n",
        "\n",
        "    Args:\n",
        "        stored_logins: Dictionary of {email: password_hash}\n",
        "        email: The email to check\n",
        "        password_to_check: The password to verify\n",
        "\n",
        "    Returns:\n",
        "        True if password matches, False otherwise\n",
        "    \"\"\"\n",
        "    # Get the stored hash for this email (or None if email doesn't exist)\n",
        "    stored_hash = stored_logins.get(email)\n",
        "\n",
        "    # If email exists and the hashes match, return True\n",
        "    if stored_hash and (hash_password(password_to_check) == stored_hash):\n",
        "        return True\n",
        "    return False\n",
        "\n",
        "# Example Usage\n",
        "if __name__ == \"__main__\":\n",
        "    # Dictionary to store email:password_hash pairs\n",
        "    user_database = {\n",
        "        \"user@example.com\": hash_password(\"securePassword123\"),\n",
        "        \"admin@site.com\": hash_password(\"adminSecret!@#\")\n",
        "    }\n",
        "\n",
        "    # Test login attempts\n",
        "    print(login(user_database, \"user@example.com\", \"securePassword123\"))  # True\n",
        "    print(login(user_database, \"user@example.com\", \"wrongPassword\"))       # False\n",
        "    print(login(user_database, \"nonexistent@email.com\", \"anyPassword\"))   # False"
      ],
      "metadata": {
        "colab": {
          "base_uri": "https://localhost:8080/"
        },
        "id": "hBRF8Fd5lzc8",
        "outputId": "8784f708-ad45-4e18-fdde-830e1dab939e"
      },
      "execution_count": 19,
      "outputs": [
        {
          "output_type": "stream",
          "name": "stdout",
          "text": [
            "True\n",
            "False\n",
            "False\n"
          ]
        }
      ]
    }
  ]
}