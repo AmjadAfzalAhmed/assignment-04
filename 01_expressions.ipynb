{
  "nbformat": 4,
  "nbformat_minor": 0,
  "metadata": {
    "colab": {
      "provenance": [],
      "authorship_tag": "ABX9TyPIukAFOklNJ+80KQNajgdE",
      "include_colab_link": true
    },
    "kernelspec": {
      "name": "python3",
      "display_name": "Python 3"
    },
    "language_info": {
      "name": "python"
    }
  },
  "cells": [
    {
      "cell_type": "markdown",
      "metadata": {
        "id": "view-in-github",
        "colab_type": "text"
      },
      "source": [
        "<a href=\"https://colab.research.google.com/github/AmjadAfzalAhmed/assignment-04/blob/main/01_expressions.ipynb\" target=\"_parent\"><img src=\"https://colab.research.google.com/assets/colab-badge.svg\" alt=\"Open In Colab\"/></a>"
      ]
    },
    {
      "cell_type": "markdown",
      "source": [
        "01_dice_simulator"
      ],
      "metadata": {
        "id": "P9-VL2D_oSn7"
      }
    },
    {
      "cell_type": "code",
      "source": [
        "import random\n",
        "import time\n",
        "\n",
        "\n",
        "def roll_dice():\n",
        "    return random.randint(1, 6), random.randint(1, 6)\n",
        "\n",
        "def roll_animation():\n",
        "    for roll in range(3):\n",
        "\n",
        "        die1, die2 = roll_dice()\n",
        "        total = die1 + die2\n",
        "        print(f\"\\nRolling: Dice 1 = {die1}, Dice 2 = {die2}, Total = {total}\")\n",
        "        time.sleep(1)\n",
        "\n",
        "\n",
        "def main():\n",
        "    print(\"Welcome to the Dice Simulator!\")\n",
        "    roll_animation()\n",
        "    print(\"\\nAll rolls completed!\")\n",
        "\n",
        "\n",
        "if __name__ == \"__main__\":\n",
        "    main()\n"
      ],
      "metadata": {
        "colab": {
          "base_uri": "https://localhost:8080/"
        },
        "id": "W2iMvdoSq7Ni",
        "outputId": "5cd0e18b-6b7e-4748-af10-b57574ff6b94"
      },
      "execution_count": 16,
      "outputs": [
        {
          "output_type": "stream",
          "name": "stdout",
          "text": [
            "Welcome to the Dice Simulator!\n",
            "\n",
            "Rolling: Dice 1 = 1, Dice 2 = 4, Total = 5\n",
            "\n",
            "Rolling: Dice 1 = 6, Dice 2 = 3, Total = 9\n",
            "\n",
            "Rolling: Dice 1 = 6, Dice 2 = 2, Total = 8\n",
            "\n",
            "All rolls completed!\n"
          ]
        }
      ]
    }
  ]
}