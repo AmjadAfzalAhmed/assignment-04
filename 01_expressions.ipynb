{
  "nbformat": 4,
  "nbformat_minor": 0,
  "metadata": {
    "colab": {
      "provenance": [],
      "authorship_tag": "ABX9TyMrYoQzVFeW6ysx1NLDBfIM",
      "include_colab_link": true
    },
    "kernelspec": {
      "name": "python3",
      "display_name": "Python 3"
    },
    "language_info": {
      "name": "python"
    }
  },
  "cells": [
    {
      "cell_type": "markdown",
      "metadata": {
        "id": "view-in-github",
        "colab_type": "text"
      },
      "source": [
        "<a href=\"https://colab.research.google.com/github/AmjadAfzalAhmed/assignment-04/blob/main/01_expressions.ipynb\" target=\"_parent\"><img src=\"https://colab.research.google.com/assets/colab-badge.svg\" alt=\"Open In Colab\"/></a>"
      ]
    },
    {
      "cell_type": "markdown",
      "source": [
        "01_dice_simulator"
      ],
      "metadata": {
        "id": "P9-VL2D_oSn7"
      }
    },
    {
      "cell_type": "code",
      "source": [
        "import random\n",
        "import time\n",
        "\n",
        "\n",
        "def roll_dice():\n",
        "    return random.randint(1, 6), random.randint(1, 6)\n",
        "\n",
        "def roll_animation():\n",
        "    for roll in range(3):\n",
        "\n",
        "        die1, die2 = roll_dice()\n",
        "        total = die1 + die2\n",
        "        print(f\"\\nRolling: Dice 1 = {die1}, Dice 2 = {die2}, Total = {total}\")\n",
        "        time.sleep(1)\n",
        "\n",
        "\n",
        "def main():\n",
        "    print(\"Welcome to the Dice Simulator!\")\n",
        "    roll_animation()\n",
        "    print(\"\\nEnd of the Program!\")\n",
        "\n",
        "\n",
        "if __name__ == \"__main__\":\n",
        "    main()\n"
      ],
      "metadata": {
        "colab": {
          "base_uri": "https://localhost:8080/"
        },
        "id": "W2iMvdoSq7Ni",
        "outputId": "2b505fd1-9f40-4abd-ba63-22d639769125"
      },
      "execution_count": null,
      "outputs": [
        {
          "output_type": "stream",
          "name": "stdout",
          "text": [
            "Welcome to the Dice Simulator!\n",
            "\n",
            "Rolling: Dice 1 = 2, Dice 2 = 4, Total = 6\n",
            "\n",
            "Rolling: Dice 1 = 6, Dice 2 = 3, Total = 9\n",
            "\n",
            "Rolling: Dice 1 = 5, Dice 2 = 2, Total = 7\n",
            "\n",
            "End of the Program!\n"
          ]
        }
      ]
    },
    {
      "cell_type": "markdown",
      "source": [
        "**02_e=mc2**"
      ],
      "metadata": {
        "id": "7lvLG1SYDz4f"
      }
    },
    {
      "cell_type": "code",
      "source": [
        "# Function to calculate energy\n",
        "def energy_calc(mass):\n",
        "\n",
        "    # Speed of light in meters per second (constant)\n",
        "    C = 299792458\n",
        "\n",
        "    # Calculate energy using E = m * c²\n",
        "    energy = mass * (C ** 2)\n",
        "    return energy\n",
        "\n",
        "# function to call operations within\n",
        "def main():\n",
        "    print(\"Einstein's Mass-Energy Equivalence Calculator\")\n",
        "    print(\"--------------------------------------------\")\n",
        "\n",
        "\n",
        "    try:\n",
        "        # Get user input for mass\n",
        "        mass_kg = float(input(\"Enter kilos of mass: \"))\n",
        "\n",
        "        # Verify mass is positive\n",
        "        if mass_kg < 0:\n",
        "            print(\"Mass cannot be negative. Please enter a positive value.\")\n",
        "            return\n",
        "\n",
        "        print(\"\\nCalculating e = m * C^2...\")\n",
        "        print(f\"m = {mass_kg} kg\")\n",
        "        print(\"C = 299792458 m/s\")\n",
        "\n",
        "        # Calculate energy\n",
        "        energy_joules = energy_calc(mass_kg)\n",
        "\n",
        "        # Display result\n",
        "        print(f\"\\n{mass_kg} kg of mass is equivalent to:\")\n",
        "        print(f\"{energy_joules} joules of energy!\")\n",
        "\n",
        "\n",
        "\n",
        "    except ValueError:\n",
        "        print(\"Invalid input. Please enter a numeric value for mass.\")\n",
        "\n",
        "if __name__ == \"__main__\":\n",
        "    main()"
      ],
      "metadata": {
        "colab": {
          "base_uri": "https://localhost:8080/"
        },
        "id": "G62LVS8DJG79",
        "outputId": "0cafa72a-383f-48ed-94f6-49f6bedf5290"
      },
      "execution_count": null,
      "outputs": [
        {
          "output_type": "stream",
          "name": "stdout",
          "text": [
            "Einstein's Mass-Energy Equivalence Calculator\n",
            "--------------------------------------------\n",
            "Enter kilos of mass: 120\n",
            "\n",
            "Calculating e = m * C^2...\n",
            "m = 120.0 kg\n",
            "C = 299792458 m/s\n",
            "\n",
            "120.0 kg of mass is equivalent to:\n",
            "1.0785062144841812e+19 joules of energy!\n"
          ]
        }
      ]
    },
    {
      "cell_type": "markdown",
      "source": [
        "**03_feet_to_inches**"
      ],
      "metadata": {
        "id": "UX-B78YsRkbN"
      }
    },
    {
      "cell_type": "code",
      "source": [
        "def converter():\n",
        "  feet = float(input(\"Enter feet to convert: \"))\n",
        "\n",
        "\n",
        "  feet_to_inch = feet * 12\n",
        "  print(f\"The {feet} feet are equal {feet_to_inch} inches\")\n",
        "\n",
        "if __name__ == '__main__':\n",
        "  converter()"
      ],
      "metadata": {
        "colab": {
          "base_uri": "https://localhost:8080/"
        },
        "id": "NE9Hra9QRnd4",
        "outputId": "4e0c8f2f-4516-4e41-c82d-5ce2d8626203"
      },
      "execution_count": null,
      "outputs": [
        {
          "output_type": "stream",
          "name": "stdout",
          "text": [
            "Enter feet to convert: 3\n",
            "The 3.0 feet are equal 36.0 inches\n"
          ]
        }
      ]
    },
    {
      "cell_type": "markdown",
      "source": [
        "**04_pythagorean_theorem**"
      ],
      "metadata": {
        "id": "01UzFXjSF57f"
      }
    },
    {
      "cell_type": "code",
      "source": [
        "import math  # Import the math library so we can use the sqrt function that gets square root of the sum\n",
        "\n",
        "def main():\n",
        "    # Get the two side lengths from the user and cast them to be numbers\n",
        "    ab: float = float(input(\"Enter the length of AB: \"))\n",
        "    ac: float = float(input(\"Enter the length of AC: \"))\n",
        "\n",
        "    # Calculate the hypotenuse using the two sides and print it out\n",
        "    bc: float = math.sqrt(ab**2 + ac**2)\n",
        "    print(\"The length of BC (the hypotenuse) is: \" + str(bc))\n",
        "\n",
        "\n",
        "# There is no need to edit code beyond this point\n",
        "\n",
        "if __name__ == '__main__':\n",
        "    main()"
      ],
      "metadata": {
        "colab": {
          "base_uri": "https://localhost:8080/"
        },
        "id": "7x2G5DM2F15A",
        "outputId": "9bd6e79e-2c35-437e-cecf-21f9bddc6196"
      },
      "execution_count": 2,
      "outputs": [
        {
          "output_type": "stream",
          "name": "stdout",
          "text": [
            "Enter the length of AB: 10\n",
            "Enter the length of AC: 2\n",
            "The length of BC (the hypotenuse) is: 10.198039027185569\n"
          ]
        }
      ]
    },
    {
      "cell_type": "markdown",
      "source": [
        "**05_remainder_division**"
      ],
      "metadata": {
        "id": "3VMbx0A1LZ5s"
      }
    },
    {
      "cell_type": "code",
      "source": [
        "def main():\n",
        "  # Ask the user for the first number\n",
        "  num1 = int(input(\"Please enter an integer to be divided: \"))\n",
        "\n",
        "  # Ask the user for the second number\n",
        "  num2 = int(input(\"Please enter an integer to divide by: \"))\n",
        "\n",
        "  # Calculate quotient and remainder\n",
        "  quotient = num1 // num2  # Integer division\n",
        "  remainder = num1 % num2  # Modulus operator gives the remainder\n",
        "\n",
        "  # Display the result\n",
        "  print(f\"The result of this division is {quotient} with a remainder of {remainder}\")\n",
        "\n",
        "if __name__ == '__main__':\n",
        "  main()\n"
      ],
      "metadata": {
        "colab": {
          "base_uri": "https://localhost:8080/"
        },
        "id": "r82oDTmuLfoC",
        "outputId": "c735504e-8824-4172-f4a7-a09c237359e7"
      },
      "execution_count": 11,
      "outputs": [
        {
          "output_type": "stream",
          "name": "stdout",
          "text": [
            "Please enter an integer to be divided: 7\n",
            "Please enter an integer to divide by: 5\n",
            "The result of this division is 1 with a remainder of 2\n"
          ]
        }
      ]
    },
    {
      "cell_type": "markdown",
      "source": [
        "**06_rolldice.md**"
      ],
      "metadata": {
        "id": "qqsGk4VQRAvf"
      }
    },
    {
      "cell_type": "code",
      "source": [
        "import random # use of random module to get random values everytime\n",
        "\n",
        "# Declaring Constant that stores 6 faces of Dice\n",
        "DICE = 6\n",
        "\n",
        "def roll_dice():\n",
        "\n",
        "    die1 = random.randint(1, DICE)\n",
        "    die2 = random.randint(1, DICE)\n",
        "    total = die1 + die2\n",
        "\n",
        "    print(\"...Dice Roller...\")\n",
        "    print(f'\\nFirst dice = {die1}')\n",
        "    print(f'\\nSecond dice = {die2}')\n",
        "    print(f\"\\nTotal Rolled turns: {die1} + {die2} are = {total}\")\n",
        "\n",
        "\n",
        "if __name__ == '__main__':\n",
        "  roll_dice()"
      ],
      "metadata": {
        "colab": {
          "base_uri": "https://localhost:8080/"
        },
        "id": "mE_00YEYRESf",
        "outputId": "1fd7c338-72a4-45c5-8736-f731c8eb3e0f"
      },
      "execution_count": 28,
      "outputs": [
        {
          "output_type": "stream",
          "name": "stdout",
          "text": [
            "...Dice Roller...\n",
            "\n",
            "First dice = 1\n",
            "\n",
            "Second dice = 5\n",
            "\n",
            "Total Rolled turns: 1 + 5 are = 6\n"
          ]
        }
      ]
    }
  ]
}