{
  "nbformat": 4,
  "nbformat_minor": 0,
  "metadata": {
    "colab": {
      "provenance": [],
      "authorship_tag": "ABX9TyMnFY21M3BKW3yCZTM0m6/9",
      "include_colab_link": true
    },
    "kernelspec": {
      "name": "python3",
      "display_name": "Python 3"
    },
    "language_info": {
      "name": "python"
    }
  },
  "cells": [
    {
      "cell_type": "markdown",
      "metadata": {
        "id": "view-in-github",
        "colab_type": "text"
      },
      "source": [
        "<a href=\"https://colab.research.google.com/github/AmjadAfzalAhmed/assignment-04/blob/main/01_expressions.ipynb\" target=\"_parent\"><img src=\"https://colab.research.google.com/assets/colab-badge.svg\" alt=\"Open In Colab\"/></a>"
      ]
    },
    {
      "cell_type": "markdown",
      "source": [
        "01_dice_simulator"
      ],
      "metadata": {
        "id": "P9-VL2D_oSn7"
      }
    },
    {
      "cell_type": "code",
      "source": [
        "import random\n",
        "import time\n",
        "\n",
        "\n",
        "def roll_dice():\n",
        "    return random.randint(1, 6), random.randint(1, 6)\n",
        "\n",
        "def roll_animation():\n",
        "    for roll in range(3):\n",
        "\n",
        "        die1, die2 = roll_dice()\n",
        "        total = die1 + die2\n",
        "        print(f\"\\nRolling: Dice 1 = {die1}, Dice 2 = {die2}, Total = {total}\")\n",
        "        time.sleep(1)\n",
        "\n",
        "\n",
        "def main():\n",
        "    print(\"Welcome to the Dice Simulator!\")\n",
        "    roll_animation()\n",
        "    print(\"\\nEnd of the Program!\")\n",
        "\n",
        "\n",
        "if __name__ == \"__main__\":\n",
        "    main()\n"
      ],
      "metadata": {
        "colab": {
          "base_uri": "https://localhost:8080/"
        },
        "id": "W2iMvdoSq7Ni",
        "outputId": "2b505fd1-9f40-4abd-ba63-22d639769125"
      },
      "execution_count": null,
      "outputs": [
        {
          "output_type": "stream",
          "name": "stdout",
          "text": [
            "Welcome to the Dice Simulator!\n",
            "\n",
            "Rolling: Dice 1 = 2, Dice 2 = 4, Total = 6\n",
            "\n",
            "Rolling: Dice 1 = 6, Dice 2 = 3, Total = 9\n",
            "\n",
            "Rolling: Dice 1 = 5, Dice 2 = 2, Total = 7\n",
            "\n",
            "End of the Program!\n"
          ]
        }
      ]
    },
    {
      "cell_type": "markdown",
      "source": [
        "**02_e=mc2**"
      ],
      "metadata": {
        "id": "7lvLG1SYDz4f"
      }
    },
    {
      "cell_type": "code",
      "source": [
        "# Function to calculate energy\n",
        "def energy_calc(mass):\n",
        "\n",
        "    # Speed of light in meters per second (constant)\n",
        "    C = 299792458\n",
        "\n",
        "    # Calculate energy using E = m * c²\n",
        "    energy = mass * (C ** 2)\n",
        "    return energy\n",
        "\n",
        "# function to call operations within\n",
        "def main():\n",
        "    print(\"Einstein's Mass-Energy Equivalence Calculator\")\n",
        "    print(\"--------------------------------------------\")\n",
        "\n",
        "\n",
        "    try:\n",
        "        # Get user input for mass\n",
        "        mass_kg = float(input(\"Enter kilos of mass: \"))\n",
        "\n",
        "        # Verify mass is positive\n",
        "        if mass_kg < 0:\n",
        "            print(\"Mass cannot be negative. Please enter a positive value.\")\n",
        "            return\n",
        "\n",
        "        print(\"\\nCalculating e = m * C^2...\")\n",
        "        print(f\"m = {mass_kg} kg\")\n",
        "        print(\"C = 299792458 m/s\")\n",
        "\n",
        "        # Calculate energy\n",
        "        energy_joules = energy_calc(mass_kg)\n",
        "\n",
        "        # Display result\n",
        "        print(f\"\\n{mass_kg} kg of mass is equivalent to:\")\n",
        "        print(f\"{energy_joules} joules of energy!\")\n",
        "\n",
        "\n",
        "\n",
        "    except ValueError:\n",
        "        print(\"Invalid input. Please enter a numeric value for mass.\")\n",
        "\n",
        "if __name__ == \"__main__\":\n",
        "    main()"
      ],
      "metadata": {
        "colab": {
          "base_uri": "https://localhost:8080/"
        },
        "id": "G62LVS8DJG79",
        "outputId": "0cafa72a-383f-48ed-94f6-49f6bedf5290"
      },
      "execution_count": null,
      "outputs": [
        {
          "output_type": "stream",
          "name": "stdout",
          "text": [
            "Einstein's Mass-Energy Equivalence Calculator\n",
            "--------------------------------------------\n",
            "Enter kilos of mass: 120\n",
            "\n",
            "Calculating e = m * C^2...\n",
            "m = 120.0 kg\n",
            "C = 299792458 m/s\n",
            "\n",
            "120.0 kg of mass is equivalent to:\n",
            "1.0785062144841812e+19 joules of energy!\n"
          ]
        }
      ]
    },
    {
      "cell_type": "markdown",
      "source": [
        "**03_feet_to_inches**"
      ],
      "metadata": {
        "id": "UX-B78YsRkbN"
      }
    },
    {
      "cell_type": "code",
      "source": [
        "def converter():\n",
        "  feet = float(input(\"Enter feet to convert: \"))\n",
        "\n",
        "\n",
        "  feet_to_inch = feet * 12\n",
        "  print(f\"The {feet} feet are equal {feet_to_inch} inches\")\n",
        "\n",
        "if __name__ == '__main__':\n",
        "  converter()"
      ],
      "metadata": {
        "colab": {
          "base_uri": "https://localhost:8080/"
        },
        "id": "NE9Hra9QRnd4",
        "outputId": "4e0c8f2f-4516-4e41-c82d-5ce2d8626203"
      },
      "execution_count": null,
      "outputs": [
        {
          "output_type": "stream",
          "name": "stdout",
          "text": [
            "Enter feet to convert: 3\n",
            "The 3.0 feet are equal 36.0 inches\n"
          ]
        }
      ]
    }
  ]
}