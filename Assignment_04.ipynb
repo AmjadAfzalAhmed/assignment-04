{
  "nbformat": 4,
  "nbformat_minor": 0,
  "metadata": {
    "colab": {
      "provenance": [],
      "authorship_tag": "ABX9TyNrhbPcBQcUWFoM9jEn0QRC",
      "include_colab_link": true
    },
    "kernelspec": {
      "name": "python3",
      "display_name": "Python 3"
    },
    "language_info": {
      "name": "python"
    }
  },
  "cells": [
    {
      "cell_type": "markdown",
      "metadata": {
        "id": "view-in-github",
        "colab_type": "text"
      },
      "source": [
        "<a href=\"https://colab.research.google.com/github/AmjadAfzalAhmed/assignment-04/blob/main/Assignment_04.ipynb\" target=\"_parent\"><img src=\"https://colab.research.google.com/assets/colab-badge.svg\" alt=\"Open In Colab\"/></a>"
      ]
    },
    {
      "cell_type": "code",
      "execution_count": null,
      "metadata": {
        "id": "tPby7a0WPYkU"
      },
      "outputs": [],
      "source": []
    },
    {
      "cell_type": "markdown",
      "source": [
        "01_Problem Statement (add two numbers)"
      ],
      "metadata": {
        "id": "RTgYxJegPexF"
      }
    },
    {
      "cell_type": "code",
      "source": [
        "# first style\n",
        "\n",
        "def addition():\n",
        "  num1 = int(input(\"Enter value 1: \"))\n",
        "  num2 = int(input(\"Enter value 2: \"))\n",
        "\n",
        "  return num1 + num2\n",
        "\n",
        "print(f'the sum is {addition()}')\n"
      ],
      "metadata": {
        "colab": {
          "base_uri": "https://localhost:8080/"
        },
        "id": "EE5J-AvMPmrl",
        "outputId": "a8f304c4-07a8-4dba-c004-6eeeae5f6f1c"
      },
      "execution_count": null,
      "outputs": [
        {
          "output_type": "stream",
          "name": "stdout",
          "text": [
            "Enter value 1: 4\n",
            "Enter value 2: 4\n",
            "the sum is 8\n"
          ]
        }
      ]
    },
    {
      "cell_type": "code",
      "source": [
        "# second style\n",
        "def main():\n",
        "  num1 = input(\"Enter first number: \")\n",
        "  val1 = int(num1)\n",
        "\n",
        "  num2 = input(\"Enter second number: \")\n",
        "  val2 = int(num2)\n",
        "\n",
        "  print('the sum is', val1 + val2)\n",
        "\n",
        "if __name__ == \"__main__\":\n",
        "  main()"
      ],
      "metadata": {
        "colab": {
          "base_uri": "https://localhost:8080/"
        },
        "id": "I8aXZBpFSqis",
        "outputId": "b76ca26c-1e2c-4634-aa14-476e7ab57ba5"
      },
      "execution_count": null,
      "outputs": [
        {
          "output_type": "stream",
          "name": "stdout",
          "text": [
            "Enter first number: 4\n",
            "Enter second number: 4\n",
            "the sum is 8\n"
          ]
        }
      ]
    },
    {
      "cell_type": "markdown",
      "source": [
        "**02_Agreement Bot**"
      ],
      "metadata": {
        "id": "lko5QkYdfrZ7"
      }
    },
    {
      "cell_type": "code",
      "source": [
        "user_input = input(\"What is your favorite animal?\")\n",
        "response = user_input\n",
        "\n",
        "def main():\n",
        "  print('User input anima is: ', response)\n",
        "  print(f'My favorite animal is also, {response}')\n",
        "\n",
        "if __name__ == '__main__':\n",
        "  main()"
      ],
      "metadata": {
        "colab": {
          "base_uri": "https://localhost:8080/"
        },
        "id": "G2sKlkJgfwP7",
        "outputId": "6f992c27-d84b-47df-a9a7-68b997791ae8"
      },
      "execution_count": 4,
      "outputs": [
        {
          "output_type": "stream",
          "name": "stdout",
          "text": [
            "What is your favorite animal?Horse\n",
            "User input anima is:  Horse\n",
            "My favorite animal is also, Horse\n"
          ]
        }
      ]
    },
    {
      "cell_type": "markdown",
      "source": [
        "**03_Fahrenheit_to_Celsius**"
      ],
      "metadata": {
        "id": "Ib9WXYK6hUS2"
      }
    },
    {
      "cell_type": "code",
      "source": [
        "def main():\n",
        "  temperature = float(input(\"What is current temperature? \"))\n",
        "  faherenheit = temperature\n",
        "  degree_celsius  = (temperature - 32) * 5.0/9.0\n",
        "  print(f'\\nThe current temperature is {faherenheit}°F')\n",
        "  print(f'\\nThe current Temperature is {degree_celsius}°C')\n",
        "if __name__ == '__main__':\n",
        "  main()\n"
      ],
      "metadata": {
        "colab": {
          "base_uri": "https://localhost:8080/"
        },
        "id": "1YXDda2Dhjyr",
        "outputId": "3540a0af-6964-448d-b6bc-fa3a8d078100"
      },
      "execution_count": 13,
      "outputs": [
        {
          "output_type": "stream",
          "name": "stdout",
          "text": [
            "What is current temperature? 98\n",
            "\n",
            "The current temperature is 98.0°F\n",
            "\n",
            "The current Temperature is 36.666666666666664°C\n"
          ]
        }
      ]
    },
    {
      "cell_type": "markdown",
      "source": [
        "04_Age Calculator"
      ],
      "metadata": {
        "id": "3fybheKG75F2"
      }
    },
    {
      "cell_type": "code",
      "source": [
        "def main():\n",
        "  friends = {\"Anton\":21,\"Beth\":27,\"Chen\":47,\"Drew\":68,\"Ethan\":47}\n",
        "  for name, age in friends.items():\n",
        "    print(f'\\nAge of {name} is {age}.')\n",
        "\n",
        "if __name__ == '__main__':\n",
        "  main()"
      ],
      "metadata": {
        "colab": {
          "base_uri": "https://localhost:8080/"
        },
        "id": "Q75HcoaP8lrn",
        "outputId": "235d9454-7724-4801-8817-11014bda0dcb"
      },
      "execution_count": 21,
      "outputs": [
        {
          "output_type": "stream",
          "name": "stdout",
          "text": [
            "\n",
            "Age of Anton is 21.\n",
            "\n",
            "Age of Beth is 27.\n",
            "\n",
            "Age of Chen is 47.\n",
            "\n",
            "Age of Drew is 68.\n",
            "\n",
            "Age of Ethan is 47.\n"
          ]
        }
      ]
    },
    {
      "cell_type": "code",
      "source": [
        "# Style 2\n",
        "friends = {\"Anton\":21,\"Beth\":21 + 6,\"Chen\":27 + 20,\"Drew\":47 + 20,\"Ethan\":47}\n",
        "\n",
        "def main():\n",
        "  for key, value in friends.items():\n",
        "    print('Age of',key, 'is',value)\n",
        "\n",
        "if __name__ == '__main__':\n",
        "  main()\n"
      ],
      "metadata": {
        "colab": {
          "base_uri": "https://localhost:8080/"
        },
        "id": "5tDGzXuNBtNy",
        "outputId": "b5921543-6ccb-410a-8154-d1663c17841f"
      },
      "execution_count": 22,
      "outputs": [
        {
          "output_type": "stream",
          "name": "stdout",
          "text": [
            "Age of Anton is 21\n",
            "Age of Beth is 27\n",
            "Age of Chen is 47\n",
            "Age of Drew is 67\n",
            "Age of Ethan is 47\n"
          ]
        }
      ]
    },
    {
      "cell_type": "markdown",
      "source": [
        "05_Triangle_Perimeter"
      ],
      "metadata": {
        "id": "jFK-yD7yElHZ"
      }
    },
    {
      "cell_type": "code",
      "source": [
        "# style 1\n",
        "def calc_permimeter():\n",
        "\n",
        "  try:\n",
        "    side1 = float(input(\"Enter the length: \"))\n",
        "    side2 = float(input(\"Enter the length: \"))\n",
        "    side3 = float(input(\"Enter the length: \"))\n",
        "    print(f'\\nThe calculated perimeter of triangle is {side1 + side2 + side3}')\n",
        "  except:\n",
        "    print(\"\\nThis operation requires integer / float input!\")\n",
        "\n",
        "if __name__ == '__main__':\n",
        "  calc_permimeter()"
      ],
      "metadata": {
        "colab": {
          "base_uri": "https://localhost:8080/"
        },
        "id": "h3M9LnG2PCVa",
        "outputId": "eee7331a-c57a-44b8-e62e-6dee09ffb38a"
      },
      "execution_count": 29,
      "outputs": [
        {
          "output_type": "stream",
          "name": "stdout",
          "text": [
            "Enter the length: t\n",
            "\n",
            "This operation requires integer / float input!\n"
          ]
        }
      ]
    },
    {
      "cell_type": "markdown",
      "source": [
        "<!--  -->"
      ],
      "metadata": {
        "id": "KWPb2JHQBq0a"
      }
    },
    {
      "cell_type": "code",
      "source": [
        "def perimeter():\n",
        "  side1 = float(input(\"Enter the length of side1: \"))\n",
        "  side2 = float(input(\"Enter the length of side2: \"))\n",
        "  side3 = float(input(\"Enter the length of side3:  \"))\n",
        "\n",
        "  print(f'The perimeter of triangle is {side1 + side2 + side3} ')\n",
        "\n",
        "if __name__ == '__main__':\n",
        "  perimeter()"
      ],
      "metadata": {
        "colab": {
          "base_uri": "https://localhost:8080/"
        },
        "id": "kpegz3_sEygY",
        "outputId": "8f4d9580-463c-4077-94dd-0f106aba5ed0"
      },
      "execution_count": 25,
      "outputs": [
        {
          "output_type": "stream",
          "name": "stdout",
          "text": [
            "Enter the length of side1: 4\n",
            "Enter the length of side2: 3\n",
            "Enter the length of side3:  7\n",
            "The perimeter of triangle is 14.0 \n"
          ]
        }
      ]
    },
    {
      "cell_type": "markdown",
      "source": [
        "06_Squared_Number"
      ],
      "metadata": {
        "id": "Zbf-43K4SG7D"
      }
    },
    {
      "cell_type": "code",
      "source": [
        "# Style 1\n",
        "def main():\n",
        "  num_list = []\n",
        "\n",
        "  user_input = int(input(\"Enter number of items to be stored in num_list: \"))\n",
        "\n",
        "  item = 0\n",
        "\n",
        "  while item <= user_input:\n",
        "\n",
        "    item = int(input(\"Enter the item: \"))\n",
        "\n",
        "    num_list.append(item)\n",
        "\n",
        "    print(num_list)\n",
        "\n",
        "    def squared_num():\n",
        "      for squared in num_list:\n",
        "        print(f'\\nThe current squared number is {squared ** 2}')\n",
        "\n",
        "\n",
        "    squared_num()\n",
        "\n",
        "if __name__ == '__main__':\n",
        "  main()"
      ],
      "metadata": {
        "colab": {
          "base_uri": "https://localhost:8080/"
        },
        "id": "zOeauYbdSKOR",
        "outputId": "9a1fc43f-6ad4-44de-ceda-d430dc657069"
      },
      "execution_count": 35,
      "outputs": [
        {
          "output_type": "stream",
          "name": "stdout",
          "text": [
            "Enter number of items to be stored in num_list: 3\n",
            "Enter the item: 2\n",
            "[2]\n",
            "\n",
            "The current squared number is 4\n",
            "Enter the item: 3\n",
            "[2, 3]\n",
            "\n",
            "The current squared number is 4\n",
            "\n",
            "The current squared number is 9\n",
            "Enter the item: 4\n",
            "[2, 3, 4]\n",
            "\n",
            "The current squared number is 4\n",
            "\n",
            "The current squared number is 9\n",
            "\n",
            "The current squared number is 16\n"
          ]
        }
      ]
    },
    {
      "cell_type": "code",
      "source": [
        "# Style 2\n",
        "\n",
        "def main():\n",
        "  vals = []\n",
        "  total_nums = int(input(\"Enter the number of iterations you want: \"))\n",
        "\n",
        "  for _ in range(total_nums):\n",
        "    update = int(input(\"Enter the value to store: \"))\n",
        "    vals.append(update)\n",
        "    print('\\n',vals)\n",
        "\n",
        "  for squared in vals:\n",
        "    print(f'\\nThe squared value is {squared ** 2}.')\n",
        "\n",
        "main()"
      ],
      "metadata": {
        "colab": {
          "base_uri": "https://localhost:8080/"
        },
        "id": "Wqq6ccCZXc7r",
        "outputId": "f8dac73b-d2f3-42ff-b1ed-533cb9198048"
      },
      "execution_count": 39,
      "outputs": [
        {
          "output_type": "stream",
          "name": "stdout",
          "text": [
            "Enter the number of iterations you want: 3\n",
            "Enter the value to store: 2\n",
            "\n",
            " [2]\n",
            "Enter the value to store: 4\n",
            "\n",
            " [2, 4]\n",
            "Enter the value to store: 6\n",
            "\n",
            " [2, 4, 6]\n",
            "The squared value is 4.\n",
            "The squared value is 16.\n",
            "The squared value is 36.\n"
          ]
        }
      ]
    }
  ]
}